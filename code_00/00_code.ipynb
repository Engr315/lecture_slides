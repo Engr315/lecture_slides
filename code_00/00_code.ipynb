{
 "cells": [
  {
   "cell_type": "code",
   "execution_count": 2,
   "metadata": {},
   "outputs": [],
   "source": [
    "def fib(n):\n",
    "    seq = [1.]\n",
    "    if n <= 1: pass\n",
    "    else: \n",
    "        seq.append(1.)        \n",
    "        for i in range(n-2):\n",
    "            new = seq[-2] + seq[-1]\n",
    "            seq.append(new) \n",
    "    return seq"
   ]
  },
  {
   "cell_type": "code",
   "execution_count": 3,
   "metadata": {},
   "outputs": [
    {
     "name": "stdout",
     "output_type": "stream",
     "text": [
      "[1.0]\n",
      "[1.0]\n",
      "[1.0, 1.0]\n",
      "[1.0, 1.0, 2.0]\n",
      "[1.0, 1.0, 2.0, 3.0]\n",
      "[1.0, 1.0, 2.0, 3.0, 5.0]\n",
      "[1.0, 1.0, 2.0, 3.0, 5.0, 8.0]\n",
      "[1.0, 1.0, 2.0, 3.0, 5.0, 8.0, 13.0]\n",
      "[1.0, 1.0, 2.0, 3.0, 5.0, 8.0, 13.0, 21.0]\n",
      "[1.0, 1.0, 2.0, 3.0, 5.0, 8.0, 13.0, 21.0, 34.0]\n"
     ]
    }
   ],
   "source": [
    "for i in range(10):\n",
    "    print (fib(i))"
   ]
  },
  {
   "cell_type": "code",
   "execution_count": 4,
   "metadata": {},
   "outputs": [
    {
     "name": "stdout",
     "output_type": "stream",
     "text": [
      "0.011563 seconds\n"
     ]
    }
   ],
   "source": [
    "import time\n",
    "\n",
    "start_time = time.time()\n",
    "fib(20000)\n",
    "end_time = time.time()\n",
    "\n",
    "# at the end of the program:\n",
    "print(\"%f seconds\" % (end_time - start_time))"
   ]
  },
  {
   "cell_type": "code",
   "execution_count": 5,
   "metadata": {
    "scrolled": true
   },
   "outputs": [
    {
     "name": "stdout",
     "output_type": "stream",
     "text": [
      "         503 function calls in 0.000 seconds\n",
      "\n",
      "   Ordered by: standard name\n",
      "\n",
      "   ncalls  tottime  percall  cumtime  percall filename:lineno(function)\n",
      "        1    0.000    0.000    0.000    0.000 <ipython-input-2-7c07d5b5a814>:1(fib)\n",
      "        1    0.000    0.000    0.000    0.000 <string>:1(<module>)\n",
      "        1    0.000    0.000    0.000    0.000 {built-in method builtins.exec}\n",
      "      499    0.000    0.000    0.000    0.000 {method 'append' of 'list' objects}\n",
      "        1    0.000    0.000    0.000    0.000 {method 'disable' of '_lsprof.Profiler' objects}\n",
      "\n",
      "\n"
     ]
    }
   ],
   "source": [
    "import cProfile\n",
    "cProfile.run('fib(500)')"
   ]
  },
  {
   "cell_type": "code",
   "execution_count": 6,
   "metadata": {},
   "outputs": [],
   "source": [
    "# Fib didn't work with numpy very well"
   ]
  },
  {
   "cell_type": "code",
   "execution_count": 7,
   "metadata": {},
   "outputs": [
    {
     "name": "stdout",
     "output_type": "stream",
     "text": [
      "3000\n",
      "11000\n"
     ]
    }
   ],
   "source": [
    "import sys\n",
    "print(sys.getrecursionlimit())\n",
    "sys.setrecursionlimit(11000)\n",
    "print(sys.getrecursionlimit())\n"
   ]
  },
  {
   "cell_type": "code",
   "execution_count": 8,
   "metadata": {},
   "outputs": [],
   "source": [
    "def squares(n):\n",
    "    if n <= 1:\n",
    "        return [1]\n",
    "    else:\n",
    "        seq = squares(n-1)\n",
    "        seq.append(n*n)\n",
    "        return seq"
   ]
  },
  {
   "cell_type": "code",
   "execution_count": 9,
   "metadata": {},
   "outputs": [
    {
     "name": "stdout",
     "output_type": "stream",
     "text": [
      "[1]\n",
      "[1, 4]\n",
      "[1, 4, 9]\n",
      "[1, 4, 9, 16]\n",
      "[1, 4, 9, 16, 25]\n",
      "[1, 4, 9, 16, 25, 36]\n",
      "[1, 4, 9, 16, 25, 36, 49]\n",
      "[1, 4, 9, 16, 25, 36, 49, 64]\n",
      "[1, 4, 9, 16, 25, 36, 49, 64, 81]\n"
     ]
    }
   ],
   "source": [
    "for i in range(1,10):\n",
    "    print (squares(i))"
   ]
  },
  {
   "cell_type": "code",
   "execution_count": 10,
   "metadata": {},
   "outputs": [
    {
     "name": "stdout",
     "output_type": "stream",
     "text": [
      "0.000060 seconds\n"
     ]
    }
   ],
   "source": [
    "import time\n",
    "\n",
    "start_time = time.time()\n",
    "squares(10)\n",
    "end_time = time.time()\n",
    "\n",
    "# at the end of the program:\n",
    "print(\"%f seconds\" % (end_time - start_time))"
   ]
  },
  {
   "cell_type": "code",
   "execution_count": 11,
   "metadata": {},
   "outputs": [
    {
     "name": "stdout",
     "output_type": "stream",
     "text": [
      "0.028748 seconds\n"
     ]
    }
   ],
   "source": [
    "import time\n",
    "import sys\n",
    "sys.setrecursionlimit(21000)\n",
    "\n",
    "start_time = time.time()\n",
    "squares(20000)\n",
    "end_time = time.time()\n",
    "\n",
    "# at the end of the program:\n",
    "print(\"%f seconds\" % (end_time - start_time))"
   ]
  },
  {
   "cell_type": "code",
   "execution_count": 12,
   "metadata": {
    "scrolled": false
   },
   "outputs": [
    {
     "name": "stdout",
     "output_type": "stream",
     "text": [
      "         40002 function calls (20003 primitive calls) in 0.028 seconds\n",
      "\n",
      "   Ordered by: standard name\n",
      "\n",
      "   ncalls  tottime  percall  cumtime  percall filename:lineno(function)\n",
      "  20000/1    0.025    0.000    0.027    0.027 <ipython-input-8-50d13c5dd8df>:1(squares)\n",
      "        1    0.000    0.000    0.028    0.028 <string>:1(<module>)\n",
      "        1    0.000    0.000    0.028    0.028 {built-in method builtins.exec}\n",
      "    19999    0.002    0.000    0.002    0.000 {method 'append' of 'list' objects}\n",
      "        1    0.000    0.000    0.000    0.000 {method 'disable' of '_lsprof.Profiler' objects}\n",
      "\n",
      "\n"
     ]
    }
   ],
   "source": [
    "import cProfile\n",
    "cProfile.run('squares(20000)')"
   ]
  },
  {
   "cell_type": "code",
   "execution_count": 13,
   "metadata": {},
   "outputs": [],
   "source": [
    "def squares2(n):\n",
    "    if n <= 1:\n",
    "        return [1]\n",
    "    else:\n",
    "        seq = []\n",
    "        for i in range(1,n):\n",
    "            seq.append(i*i)\n",
    "        return seq"
   ]
  },
  {
   "cell_type": "code",
   "execution_count": 14,
   "metadata": {},
   "outputs": [
    {
     "name": "stdout",
     "output_type": "stream",
     "text": [
      "0.003575 seconds\n"
     ]
    }
   ],
   "source": [
    "import time\n",
    "\n",
    "start_time = time.time()\n",
    "squares2(20000)\n",
    "end_time = time.time()\n",
    "\n",
    "# at the end of the program:\n",
    "print(\"%f seconds\" % (end_time - start_time))"
   ]
  },
  {
   "cell_type": "code",
   "execution_count": 15,
   "metadata": {},
   "outputs": [
    {
     "name": "stdout",
     "output_type": "stream",
     "text": [
      "[1]\n",
      "[1]\n",
      "[1, 4]\n",
      "[1, 4, 9]\n",
      "[1, 4, 9, 16]\n",
      "[1, 4, 9, 16, 25]\n",
      "[1, 4, 9, 16, 25, 36]\n",
      "[1, 4, 9, 16, 25, 36, 49]\n",
      "[1, 4, 9, 16, 25, 36, 49, 64]\n"
     ]
    }
   ],
   "source": [
    "for i in range(1,10):\n",
    "    print (squares2(i))"
   ]
  },
  {
   "cell_type": "code",
   "execution_count": 16,
   "metadata": {},
   "outputs": [
    {
     "name": "stdout",
     "output_type": "stream",
     "text": [
      "         20003 function calls in 0.009 seconds\n",
      "\n",
      "   Ordered by: standard name\n",
      "\n",
      "   ncalls  tottime  percall  cumtime  percall filename:lineno(function)\n",
      "        1    0.007    0.007    0.009    0.009 <ipython-input-13-5c6731cb3b0c>:1(squares2)\n",
      "        1    0.000    0.000    0.009    0.009 <string>:1(<module>)\n",
      "        1    0.000    0.000    0.009    0.009 {built-in method builtins.exec}\n",
      "    19999    0.002    0.000    0.002    0.000 {method 'append' of 'list' objects}\n",
      "        1    0.000    0.000    0.000    0.000 {method 'disable' of '_lsprof.Profiler' objects}\n",
      "\n",
      "\n"
     ]
    }
   ],
   "source": [
    "import cProfile\n",
    "cProfile.run('squares2(20000)')"
   ]
  },
  {
   "cell_type": "code",
   "execution_count": 17,
   "metadata": {},
   "outputs": [],
   "source": [
    "x1 = squares(20000)\n",
    "x2 = squares2(20000)\n",
    "for idx, (x,y) in enumerate(zip(x1,x2)):\n",
    "    if (x != y):\n",
    "        print (idx,x,y)\n",
    "        break\n"
   ]
  },
  {
   "cell_type": "code",
   "execution_count": 18,
   "metadata": {},
   "outputs": [],
   "source": [
    "import numpy as np\n",
    "def squares3(n):\n",
    "\n",
    "    seq = np.zeros(n, dtype=np.int)\n",
    "    for i in range(1, n+1):\n",
    "        seq[i-1] = i * i            \n",
    "    return seq"
   ]
  },
  {
   "cell_type": "code",
   "execution_count": 19,
   "metadata": {},
   "outputs": [
    {
     "name": "stdout",
     "output_type": "stream",
     "text": [
      "0.004147 seconds\n"
     ]
    }
   ],
   "source": [
    "import time\n",
    "\n",
    "start_time = time.time()\n",
    "squares3(20000)\n",
    "end_time = time.time()\n",
    "\n",
    "# at the end of the program:\n",
    "print(\"%f seconds\" % (end_time - start_time))"
   ]
  },
  {
   "cell_type": "code",
   "execution_count": 20,
   "metadata": {
    "scrolled": true
   },
   "outputs": [
    {
     "name": "stdout",
     "output_type": "stream",
     "text": [
      "         5 function calls in 0.004 seconds\n",
      "\n",
      "   Ordered by: standard name\n",
      "\n",
      "   ncalls  tottime  percall  cumtime  percall filename:lineno(function)\n",
      "        1    0.004    0.004    0.004    0.004 <ipython-input-18-d2e06aa2d598>:2(squares3)\n",
      "        1    0.000    0.000    0.004    0.004 <string>:1(<module>)\n",
      "        1    0.000    0.000    0.004    0.004 {built-in method builtins.exec}\n",
      "        1    0.000    0.000    0.000    0.000 {built-in method numpy.zeros}\n",
      "        1    0.000    0.000    0.000    0.000 {method 'disable' of '_lsprof.Profiler' objects}\n",
      "\n",
      "\n"
     ]
    }
   ],
   "source": [
    "import cProfile\n",
    "cProfile.run('squares3(20000)')"
   ]
  },
  {
   "cell_type": "code",
   "execution_count": 21,
   "metadata": {},
   "outputs": [
    {
     "name": "stdout",
     "output_type": "stream",
     "text": [
      "0.003010 seconds\n"
     ]
    }
   ],
   "source": [
    "#Thanks Drason!\n",
    "def squares4(n):\n",
    "    return [i * i for i in range(1, n+1)]\n",
    "\n",
    "start_time = time.time()\n",
    "squares4(20000)\n",
    "end_time = time.time()\n",
    "\n",
    "# at the end of the program:\n",
    "print(\"%f seconds\" % (end_time - start_time))"
   ]
  },
  {
   "cell_type": "code",
   "execution_count": 22,
   "metadata": {},
   "outputs": [
    {
     "name": "stdout",
     "output_type": "stream",
     "text": [
      "[1]\n",
      "[1]\n",
      "[1]\n",
      "[1, 4]\n",
      "[1 4]\n",
      "[1, 4]\n",
      "[1, 4, 9]\n",
      "[1 4 9]\n",
      "[1, 4, 9]\n",
      "[1, 4, 9, 16]\n",
      "[ 1  4  9 16]\n",
      "[1, 4, 9, 16]\n",
      "[1, 4, 9, 16, 25]\n",
      "[ 1  4  9 16 25]\n",
      "[1, 4, 9, 16, 25]\n",
      "[1, 4, 9, 16, 25, 36]\n",
      "[ 1  4  9 16 25 36]\n",
      "[1, 4, 9, 16, 25, 36]\n",
      "[1, 4, 9, 16, 25, 36, 49]\n",
      "[ 1  4  9 16 25 36 49]\n",
      "[1, 4, 9, 16, 25, 36, 49]\n",
      "[1, 4, 9, 16, 25, 36, 49, 64]\n",
      "[ 1  4  9 16 25 36 49 64]\n",
      "[1, 4, 9, 16, 25, 36, 49, 64]\n",
      "[1, 4, 9, 16, 25, 36, 49, 64, 81]\n",
      "[ 1  4  9 16 25 36 49 64 81]\n",
      "[1, 4, 9, 16, 25, 36, 49, 64, 81]\n"
     ]
    }
   ],
   "source": [
    "for i in range(1,10):\n",
    "    print (squares(i))\n",
    "    print (squares3(i))\n",
    "    print (squares4(i))"
   ]
  },
  {
   "cell_type": "code",
   "execution_count": 162,
   "metadata": {},
   "outputs": [
    {
     "name": "stdout",
     "output_type": "stream",
     "text": [
      "0.016060 seconds\n"
     ]
    }
   ],
   "source": [
    "import time\n",
    "\n",
    "start_time = time.time()\n",
    "fib2(20000)\n",
    "end_time = time.time()\n",
    "\n",
    "# at the end of the program:\n",
    "print(\"%f seconds\" % (end_time - start_time))"
   ]
  },
  {
   "cell_type": "code",
   "execution_count": 163,
   "metadata": {},
   "outputs": [
    {
     "name": "stdout",
     "output_type": "stream",
     "text": [
      "78\n",
      "1.447233402467622e+16\n",
      "1.4472334024676221e+16\n"
     ]
    }
   ],
   "source": [
    "x = fib(20000)\n",
    "y = fib2(20000)\n",
    "for idx, (xn, yn) in enumerate(zip(x,y)):\n",
    "    if xn != yn:\n",
    "        print (idx)\n",
    "        break\n",
    "        \n",
    "print (x[idx])\n",
    "print (y[idx])"
   ]
  },
  {
   "cell_type": "code",
   "execution_count": 89,
   "metadata": {},
   "outputs": [
    {
     "name": "stdout",
     "output_type": "stream",
     "text": [
      "0 1\n",
      "1 2\n"
     ]
    }
   ],
   "source": [
    "x = [1,2]\n",
    "y = [4,5]\n",
    "for i, (xn,yn) in enumerate( zip(x,y)):\n",
    "    print (i, xn)"
   ]
  },
  {
   "cell_type": "code",
   "execution_count": 66,
   "metadata": {},
   "outputs": [
    {
     "name": "stdout",
     "output_type": "stream",
     "text": [
      "[0. 0. 0.]\n",
      "[1. 0. 0.]\n",
      "2\n"
     ]
    }
   ],
   "source": [
    "x = np.zeros(3)\n",
    "print (x)\n",
    "x[0] = 1\n",
    "print (x)\n",
    "for i in range(2,3): print (i)"
   ]
  },
  {
   "cell_type": "code",
   "execution_count": null,
   "metadata": {},
   "outputs": [],
   "source": []
  }
 ],
 "metadata": {
  "kernelspec": {
   "display_name": "Python 3",
   "language": "python",
   "name": "python3"
  },
  "language_info": {
   "codemirror_mode": {
    "name": "ipython",
    "version": 3
   },
   "file_extension": ".py",
   "mimetype": "text/x-python",
   "name": "python",
   "nbconvert_exporter": "python",
   "pygments_lexer": "ipython3",
   "version": "3.9.0"
  }
 },
 "nbformat": 4,
 "nbformat_minor": 4
}
