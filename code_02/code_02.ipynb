{
 "cells": [
  {
   "cell_type": "code",
   "execution_count": 1,
   "metadata": {},
   "outputs": [],
   "source": [
    "import numpy as np\n",
    "import time"
   ]
  },
  {
   "cell_type": "code",
   "execution_count": 6,
   "metadata": {
    "scrolled": true
   },
   "outputs": [
    {
     "name": "stdout",
     "output_type": "stream",
     "text": [
      "value:  0 bin: 0b0 popcount: 0\n",
      "value:  1 bin: 0b1 popcount: 1\n",
      "value:  2 bin: 0b10 popcount: 1\n",
      "value:  3 bin: 0b11 popcount: 2\n",
      "value:  4 bin: 0b100 popcount: 1\n",
      "value:  5 bin: 0b101 popcount: 2\n",
      "value:  6 bin: 0b110 popcount: 2\n",
      "value:  7 bin: 0b111 popcount: 3\n",
      "value:  8 bin: 0b1000 popcount: 1\n",
      "value:  9 bin: 0b1001 popcount: 2\n"
     ]
    }
   ],
   "source": [
    "def popcount(num):\n",
    "    return bin(num).count('1')\n",
    "\n",
    "\n",
    "for i in range(0,10):\n",
    "    print ('value: ', i, 'bin:', bin(i), 'popcount:', popcount(i))\n"
   ]
  },
  {
   "cell_type": "code",
   "execution_count": 7,
   "metadata": {},
   "outputs": [],
   "source": [
    "def popcount2(num):        \n",
    "    w = 0\n",
    "    while (num):\n",
    "        w += 1\n",
    "        num &= num - 1\n",
    "    return w\n",
    "\n"
   ]
  },
  {
   "cell_type": "code",
   "execution_count": 10,
   "metadata": {},
   "outputs": [],
   "source": [
    "def popcount_all(buf):\n",
    "    return sum(map(popcount,buf))\n",
    "def popcount2_all(buf):\n",
    "    return sum(map(popcount2,buf))"
   ]
  },
  {
   "cell_type": "code",
   "execution_count": 11,
   "metadata": {},
   "outputs": [
    {
     "name": "stdout",
     "output_type": "stream",
     "text": [
      "14851289\n",
      "14851289\n",
      "14851289\n"
     ]
    }
   ],
   "source": [
    "np.random.seed(1)\n",
    "buf = np.random.randint(0,1E9,int(1E6))\n",
    "sum_1s = sum(map(popcount2,buf))\n",
    "print (sum_1s)\n",
    "\n",
    "print (popcount_all(buf))\n",
    "print (popcount2_all(buf))"
   ]
  },
  {
   "cell_type": "code",
   "execution_count": 12,
   "metadata": {},
   "outputs": [
    {
     "name": "stdout",
     "output_type": "stream",
     "text": [
      "popcount: 0.283224 seconds (w/libs)\n",
      "popcount2: 2.063063 seconds (w/o libs)\n"
     ]
    }
   ],
   "source": [
    "np.random.seed(1)\n",
    "buf = np.random.randint(0,1E9,int(1E6))\n",
    "\n",
    "start_time = time.time()\n",
    "sum_1s = popcount_all(buf)\n",
    "end_time = time.time()\n",
    "print(\"popcount: %f seconds (w/libs)\" \n",
    "      % (end_time - start_time))\n",
    "\n",
    "start_time = time.time()\n",
    "sum_1s = popcount2_all(buf)\n",
    "end_time = time.time()\n",
    "print(\"popcount2: %f seconds (w/o libs)\" \n",
    "      % (end_time - start_time))"
   ]
  },
  {
   "cell_type": "code",
   "execution_count": 13,
   "metadata": {},
   "outputs": [],
   "source": [
    "import cPopcount\n"
   ]
  },
  {
   "cell_type": "code",
   "execution_count": 14,
   "metadata": {},
   "outputs": [
    {
     "data": {
      "text/plain": [
       "16"
      ]
     },
     "execution_count": 14,
     "metadata": {},
     "output_type": "execute_result"
    }
   ],
   "source": [
    "import cPopcount\n",
    "cPopcount.cPopcount(0xffff)"
   ]
  },
  {
   "cell_type": "code",
   "execution_count": 16,
   "metadata": {},
   "outputs": [
    {
     "name": "stdout",
     "output_type": "stream",
     "text": [
      "popcount: 0.274341 seconds (w/calls)\n",
      "popcount2: 0.929538 seconds (w/o calls)\n",
      "c_popcount: 0.030930 seconds (64-bits in C)\n",
      "c_popcount: 0.008234 seconds (List in C)\n"
     ]
    }
   ],
   "source": [
    "\n",
    "\n",
    "np.random.seed(1)\n",
    "buf = np.random.randint(0,1E9,int(1E6))\n",
    "buf = buf.tolist()\n",
    "\n",
    "start_time = time.time()\n",
    "sum_1s = popcount_all(buf)\n",
    "end_time = time.time()\n",
    "print(\"popcount: %f seconds (w/calls)\" \n",
    "      % (end_time - start_time))\n",
    "\n",
    "start_time = time.time()\n",
    "sum_1s = popcount2_all(buf)\n",
    "end_time = time.time()\n",
    "print(\"popcount2: %f seconds (w/o calls)\" \n",
    "      % (end_time - start_time))\n",
    "\n",
    "start_time = time.time()\n",
    "sum_1s = sum(map(cPopcount.cPopcount,buf))\n",
    "end_time = time.time()\n",
    "print(\"c_popcount: %f seconds (64-bits in C)\" \n",
    "      % (end_time - start_time))\n",
    "\n",
    "start_time = time.time()\n",
    "sum_1s = cPopcount.cPopcount_all(buf)\n",
    "end_time = time.time()\n",
    "print(\"c_popcount: %f seconds (List in C)\" \n",
    "      % (end_time - start_time))"
   ]
  },
  {
   "cell_type": "code",
   "execution_count": null,
   "metadata": {},
   "outputs": [],
   "source": []
  }
 ],
 "metadata": {
  "kernelspec": {
   "display_name": "Python 3 (ipykernel)",
   "language": "python",
   "name": "python3"
  },
  "language_info": {
   "codemirror_mode": {
    "name": "ipython",
    "version": 3
   },
   "file_extension": ".py",
   "mimetype": "text/x-python",
   "name": "python",
   "nbconvert_exporter": "python",
   "pygments_lexer": "ipython3",
   "version": "3.9.9"
  }
 },
 "nbformat": 4,
 "nbformat_minor": 4
}
