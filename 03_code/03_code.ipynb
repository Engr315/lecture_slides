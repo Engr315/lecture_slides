{
 "cells": [
  {
   "cell_type": "code",
   "execution_count": 1,
   "metadata": {},
   "outputs": [],
   "source": [
    "import numpy as np\n",
    "import time"
   ]
  },
  {
   "cell_type": "code",
   "execution_count": 2,
   "metadata": {},
   "outputs": [],
   "source": [
    "def popcount(num):\n",
    "    return bin(num).count('1')\n",
    "def popcount_all(buf):\n",
    "    return sum(map(popcount,buf))"
   ]
  },
  {
   "cell_type": "code",
   "execution_count": 3,
   "metadata": {},
   "outputs": [
    {
     "name": "stdout",
     "output_type": "stream",
     "text": [
      "bitcount: 0.365821 seconds (pure python)\n"
     ]
    }
   ],
   "source": [
    "np.random.seed(1)\n",
    "buf = np.random.randint(0,1E9,int(1E6))\n",
    "\n",
    "start_time = time.time()\n",
    "sum_1s = popcount_all(buf)\n",
    "end_time = time.time()\n",
    "print(\"bitcount: %f seconds (pure python)\" \n",
    "      % (end_time - start_time))"
   ]
  },
  {
   "cell_type": "code",
   "execution_count": 4,
   "metadata": {},
   "outputs": [
    {
     "name": "stdout",
     "output_type": "stream",
     "text": [
      "bitcount2: 2.121594 seconds (pure python)\n"
     ]
    }
   ],
   "source": [
    "def popcount2(num):        \n",
    "    w = 0\n",
    "    while (num):\n",
    "        w += 1\n",
    "        num &= num - 1\n",
    "    return w\n",
    "def popcount2_all(buf):\n",
    "    return sum(map(popcount2,buf))\n",
    "\n",
    "np.random.seed(1)\n",
    "buf = np.random.randint(0,1E9,int(1E6))\n",
    "\n",
    "start_time = time.time()\n",
    "sum_1s = popcount2_all(buf)\n",
    "end_time = time.time()\n",
    "print(\"bitcount2: %f seconds (pure python)\" \n",
    "      % (end_time - start_time))"
   ]
  },
  {
   "cell_type": "code",
   "execution_count": 5,
   "metadata": {},
   "outputs": [
    {
     "name": "stdout",
     "output_type": "stream",
     "text": [
      "0 0b0 0\n",
      "1 0b1 1\n",
      "2 0b10 1\n",
      "3 0b11 2\n",
      "4 0b100 1\n",
      "5 0b101 2\n",
      "6 0b110 2\n",
      "7 0b111 3\n",
      "8 0b1000 1\n",
      "9 0b1001 2\n",
      "10 0b1010 2\n",
      "11 0b1011 3\n",
      "12 0b1100 2\n",
      "13 0b1101 3\n",
      "14 0b1110 3\n",
      "15 0b1111 4\n",
      "16 0b10000 1\n",
      "17 0b10001 2\n",
      "18 0b10010 2\n",
      "19 0b10011 3\n"
     ]
    }
   ],
   "source": [
    "for i in range(20):\n",
    "    print (i,bin(i),popcount2(i))"
   ]
  },
  {
   "cell_type": "code",
   "execution_count": 6,
   "metadata": {},
   "outputs": [
    {
     "name": "stdout",
     "output_type": "stream",
     "text": [
      "14851289\n",
      "14851289\n"
     ]
    }
   ],
   "source": [
    "print (popcount_all(buf))\n",
    "print (popcount2_all(buf))\n"
   ]
  },
  {
   "cell_type": "code",
   "execution_count": 7,
   "metadata": {},
   "outputs": [
    {
     "name": "stdout",
     "output_type": "stream",
     "text": [
      "popcount: 0.260249 seconds (w/calls)\n",
      "popcount2: 2.148653 seconds (w/o calls)\n"
     ]
    }
   ],
   "source": [
    "np.random.seed(1)\n",
    "buf = np.random.randint(0,1E9,int(1E6))\n",
    "\n",
    "\n",
    "start_time = time.time()\n",
    "sum_1s = popcount_all(buf)\n",
    "end_time = time.time()\n",
    "print(\"popcount: %f seconds (w/calls)\" \n",
    "      % (end_time - start_time))\n",
    "\n",
    "start_time = time.time()\n",
    "sum_1s = popcount2_all(buf)\n",
    "end_time = time.time()\n",
    "print(\"popcount2: %f seconds (w/o calls)\" \n",
    "      % (end_time - start_time))"
   ]
  },
  {
   "cell_type": "code",
   "execution_count": 8,
   "metadata": {},
   "outputs": [],
   "source": [
    "import cPopcount\n"
   ]
  },
  {
   "cell_type": "code",
   "execution_count": 10,
   "metadata": {},
   "outputs": [
    {
     "name": "stdout",
     "output_type": "stream",
     "text": [
      "popcount: 0.264709 seconds (w/calls)\n",
      "popcount2: 0.879876 seconds (w/o calls)\n",
      "c_popcount: 0.027193 seconds\n",
      "c_popcount(list): 0.004752 seconds\n"
     ]
    }
   ],
   "source": [
    "def popcount(num):\n",
    "    return bin(num).count('1')\n",
    "def popcount_all(buf):\n",
    "    return sum(map(popcount,buf))\n",
    "\n",
    "def popcount2(num):        \n",
    "    w = 0\n",
    "    while (num):\n",
    "        w += 1\n",
    "        num &= num - 1\n",
    "    return w\n",
    "def popcount2_all(buf):\n",
    "    return sum(map(popcount2,buf))\n",
    "\n",
    "np.random.seed(1)\n",
    "buf = np.random.randint(0,1E9,int(1E6))\n",
    "buf = buf.tolist()\n",
    "\n",
    "start_time = time.time()\n",
    "sum_1s = popcount_all(buf)\n",
    "end_time = time.time()\n",
    "print(\"popcount: %f seconds (w/calls)\" \n",
    "      % (end_time - start_time))\n",
    "\n",
    "start_time = time.time()\n",
    "sum_1s = popcount2_all(buf)\n",
    "end_time = time.time()\n",
    "print(\"popcount2: %f seconds (w/o calls)\" \n",
    "      % (end_time - start_time))\n",
    "\n",
    "start_time = time.time()\n",
    "sum_1s = sum(map(cPopcount.cPopcount,buf))\n",
    "end_time = time.time()\n",
    "print(\"c_popcount: %f seconds\" \n",
    "      % (end_time - start_time))\n",
    "\n",
    "start_time = time.time()\n",
    "sum_1s = cPopcount.cPopcount_all(buf)\n",
    "end_time = time.time()\n",
    "print(\"c_popcount(list): %f seconds\" \n",
    "      % (end_time - start_time))"
   ]
  },
  {
   "cell_type": "code",
   "execution_count": null,
   "metadata": {},
   "outputs": [],
   "source": []
  }
 ],
 "metadata": {
  "kernelspec": {
   "display_name": "Python 3 (ipykernel)",
   "language": "python",
   "name": "python3"
  },
  "language_info": {
   "codemirror_mode": {
    "name": "ipython",
    "version": 3
   },
   "file_extension": ".py",
   "mimetype": "text/x-python",
   "name": "python",
   "nbconvert_exporter": "python",
   "pygments_lexer": "ipython3",
   "version": "3.9.13"
  }
 },
 "nbformat": 4,
 "nbformat_minor": 4
}
