{
 "cells": [
  {
   "cell_type": "code",
   "execution_count": 2,
   "metadata": {},
   "outputs": [],
   "source": [
    "import collections\n",
    "import numpy as np\n",
    "import timeit\n",
    "import time\n",
    "import random\n",
    "\n"
   ]
  },
  {
   "cell_type": "markdown",
   "metadata": {},
   "source": [
    "# Let's create a list of indexes"
   ]
  },
  {
   "cell_type": "code",
   "execution_count": 3,
   "metadata": {},
   "outputs": [
    {
     "name": "stdout",
     "output_type": "stream",
     "text": [
      "[0, 1, 2, 3, 4, 5, 6, 7, 8, 9]\n"
     ]
    }
   ],
   "source": [
    "sz = 10\n",
    "nums = [x for x in range(sz)]\n",
    "print (nums)"
   ]
  },
  {
   "cell_type": "markdown",
   "metadata": {},
   "source": [
    "# Now we shuffle them"
   ]
  },
  {
   "cell_type": "code",
   "execution_count": 4,
   "metadata": {},
   "outputs": [
    {
     "name": "stdout",
     "output_type": "stream",
     "text": [
      "[5, 1, 9, 0, 3, 2, 6, 4, 8, 7]\n"
     ]
    }
   ],
   "source": [
    "random.seed(1)\n",
    "random.shuffle(nums)\n",
    "random.shuffle(nums)\n",
    "\n",
    "print (nums)"
   ]
  },
  {
   "cell_type": "markdown",
   "metadata": {},
   "source": [
    "# Now let's make a list and an array"
   ]
  },
  {
   "cell_type": "code",
   "execution_count": 5,
   "metadata": {},
   "outputs": [
    {
     "name": "stdout",
     "output_type": "stream",
     "text": [
      "deque([5, 1, 9, 0, 3, 2, 6, 4, 8, 7])\n",
      "[5 1 9 0 3 2 6 4 8 7]\n"
     ]
    }
   ],
   "source": [
    "lst = collections.deque(nums)\n",
    "arr = np.array(nums)\n",
    "print (lst)\n",
    "print (arr)"
   ]
  },
  {
   "cell_type": "code",
   "execution_count": 6,
   "metadata": {},
   "outputs": [],
   "source": [
    "def traverse( thing, times):\n",
    "    idx = 0\n",
    "    for i in range(times):\n",
    "        nidx = thing[idx]\n",
    "        print (i, ':', idx, '->', nidx)\n",
    "        idx = nidx"
   ]
  },
  {
   "cell_type": "code",
   "execution_count": 7,
   "metadata": {
    "scrolled": true
   },
   "outputs": [
    {
     "name": "stdout",
     "output_type": "stream",
     "text": [
      "0 : 0 -> 5\n",
      "1 : 5 -> 2\n",
      "2 : 2 -> 9\n",
      "3 : 9 -> 7\n",
      "4 : 7 -> 4\n",
      "5 : 4 -> 3\n",
      "6 : 3 -> 0\n",
      "7 : 0 -> 5\n",
      "8 : 5 -> 2\n",
      "9 : 2 -> 9\n"
     ]
    }
   ],
   "source": [
    "trips = 10\n",
    "traverse(lst, trips)"
   ]
  },
  {
   "cell_type": "code",
   "execution_count": 8,
   "metadata": {},
   "outputs": [
    {
     "name": "stdout",
     "output_type": "stream",
     "text": [
      "0 : 0 -> 5\n",
      "1 : 5 -> 2\n",
      "2 : 2 -> 9\n",
      "3 : 9 -> 7\n",
      "4 : 7 -> 4\n",
      "5 : 4 -> 3\n",
      "6 : 3 -> 0\n",
      "7 : 0 -> 5\n",
      "8 : 5 -> 2\n",
      "9 : 2 -> 9\n",
      "True List: 0.001968 seconds\n",
      "0 : 0 -> 5\n",
      "1 : 5 -> 2\n",
      "2 : 2 -> 9\n",
      "3 : 9 -> 7\n",
      "4 : 7 -> 4\n",
      "5 : 4 -> 3\n",
      "6 : 3 -> 0\n",
      "7 : 0 -> 5\n",
      "8 : 5 -> 2\n",
      "9 : 2 -> 9\n",
      "Array: 0.002034 seconds\n"
     ]
    }
   ],
   "source": [
    "start_time = time.time()\n",
    "traverse(lst, trips)\n",
    "end_time = time.time()\n",
    "\n",
    "# at the end of the program:\n",
    "print(\"True List: %f seconds\" % (end_time - start_time))\n",
    "\n",
    "start_time = time.time()\n",
    "traverse(arr, trips)\n",
    "end_time = time.time()\n",
    "\n",
    "# at the end of the program:\n",
    "print(\"Array: %f seconds\" % (end_time - start_time))"
   ]
  },
  {
   "cell_type": "code",
   "execution_count": 9,
   "metadata": {},
   "outputs": [
    {
     "name": "stdout",
     "output_type": "stream",
     "text": [
      "True List: 0.234708 seconds\n",
      "Array: 0.001482 seconds\n",
      "Python List: 0.001454 seconds\n"
     ]
    }
   ],
   "source": [
    "def traverse( thing, times):\n",
    "    idx = 0\n",
    "    for i in range(times):\n",
    "        idx = thing[idx]\n",
    "\n",
    "random.seed(1)        \n",
    "sz = 1000000\n",
    "nums = [x for x in range(sz)]\n",
    "random.shuffle(nums)\n",
    "random.shuffle(nums)\n",
    "lst = collections.deque(nums)\n",
    "arr = np.array(nums)\n",
    "trips = 10000\n",
    "\n",
    "start_time = time.time()\n",
    "traverse(lst, trips)\n",
    "end_time = time.time()\n",
    "print(\"True List: %f seconds\" % (end_time - start_time))\n",
    "\n",
    "start_time = time.time()\n",
    "traverse(arr, trips)\n",
    "end_time = time.time()\n",
    "print(\"Array: %f seconds\" % (end_time - start_time))\n",
    "\n",
    "start_time = time.time()\n",
    "traverse(nums, trips)\n",
    "end_time = time.time()\n",
    "print(\"Python List: %f seconds\" % (end_time - start_time))"
   ]
  },
  {
   "cell_type": "code",
   "execution_count": 10,
   "metadata": {},
   "outputs": [
    {
     "name": "stdout",
     "output_type": "stream",
     "text": [
      "[5, 1, 9, 0, 3, 2, 6, 4, 8, 7]\n",
      "[5, 1, 9, 0, 3, -4, -3, -2, -1, 2, 6, 4, 8, 7]\n"
     ]
    }
   ],
   "source": [
    "def insert(thing, idx, values):\n",
    "    print (thing)\n",
    "    for value in values:\n",
    "        thing.insert(idx, value)\n",
    "    print (thing)\n",
    "    \n",
    "random.seed(1)        \n",
    "sz = 10\n",
    "nums = [x for x in range(sz)]\n",
    "random.shuffle(nums)\n",
    "random.shuffle(nums)\n",
    "lst = collections.deque(nums)\n",
    "arr = np.array(nums)\n",
    "\n",
    "idxs = int(sz/2)\n",
    "insert(nums, idxs, [-1,-2,-3,-4])"
   ]
  },
  {
   "cell_type": "code",
   "execution_count": 11,
   "metadata": {},
   "outputs": [
    {
     "name": "stdout",
     "output_type": "stream",
     "text": [
      "\n",
      "Insert at:  0\n",
      "\n",
      "True List: 0.000031 seconds\n",
      "Array: 0.110303 seconds\n",
      "Python List: 0.095600 seconds\n",
      "\n",
      "Insert at:  750000\n",
      "\n",
      "True List: 0.037521 seconds\n",
      "Array: 0.096866 seconds\n",
      "Python List: 0.022396 seconds\n"
     ]
    }
   ],
   "source": [
    "def insert(thing, idx, values):\n",
    "    for value in values:\n",
    "        thing.insert(idx, value)\n",
    "def insert_np(thing, idxs, values):\n",
    "    for value in values:\n",
    "        thing = np.insert(thing,idx, value)\n",
    "    \n",
    "random.seed(1)        \n",
    "sz = 1000000\n",
    "nums = [x for x in range(sz)]\n",
    "random.shuffle(nums)\n",
    "random.shuffle(nums)\n",
    "new_values = 200\n",
    "idx = 0 #int(sz/2)\n",
    "values = [-1 * x for x in range(new_values)]\n",
    "\n",
    "lst = collections.deque(nums)\n",
    "arr = np.array(nums)\n",
    "\n",
    "print ()\n",
    "print (\"Insert at: \", idx)\n",
    "print ()\n",
    "\n",
    "start_time = time.time()\n",
    "insert(lst, idx, values)\n",
    "end_time = time.time()\n",
    "print(\"True List: %f seconds\" % (end_time - start_time))\n",
    "\n",
    "start_time = time.time()\n",
    "insert_np(arr, idx, values)\n",
    "end_time = time.time()\n",
    "print(\"Array: %f seconds\" % (end_time - start_time))\n",
    "\n",
    "start_time = time.time()\n",
    "insert(nums, idx, values)\n",
    "end_time = time.time()\n",
    "print(\"Python List: %f seconds\" % (end_time - start_time))\n",
    "\n",
    "#3/4 of the way through the array\n",
    "idx = int(sz/2 + sz/4)\n",
    "print ()\n",
    "print (\"Insert at: \", idx)\n",
    "print ()\n",
    "\n",
    "start_time = time.time()\n",
    "insert(lst, idx, values)\n",
    "end_time = time.time()\n",
    "print(\"True List: %f seconds\" % (end_time - start_time))\n",
    "\n",
    "start_time = time.time()\n",
    "insert_np(arr, idx, values)\n",
    "end_time = time.time()\n",
    "print(\"Array: %f seconds\" % (end_time - start_time))\n",
    "\n",
    "start_time = time.time()\n",
    "insert(nums, idx, values)\n",
    "end_time = time.time()\n",
    "print(\"Python List: %f seconds\" % (end_time - start_time))"
   ]
  },
  {
   "cell_type": "code",
   "execution_count": 12,
   "metadata": {},
   "outputs": [
    {
     "name": "stdout",
     "output_type": "stream",
     "text": [
      "\n",
      "Size:  1\n",
      "\n",
      "True List: 0.000011 seconds\n",
      "Array: 0.002069 seconds\n",
      "\n",
      "Size:  10\n",
      "\n",
      "True List: 0.000010 seconds\n",
      "Array: 0.001130 seconds\n",
      "\n",
      "Size:  100\n",
      "\n",
      "True List: 0.000009 seconds\n",
      "Array: 0.001024 seconds\n",
      "\n",
      "Size:  1000\n",
      "\n",
      "True List: 0.000010 seconds\n",
      "Array: 0.002459 seconds\n",
      "\n",
      "Size:  10000\n",
      "\n",
      "True List: 0.000010 seconds\n",
      "Array: 0.002548 seconds\n",
      "\n",
      "Size:  100000\n",
      "\n",
      "True List: 0.000011 seconds\n",
      "Array: 0.006089 seconds\n",
      "\n",
      "Size:  1000000\n",
      "\n",
      "True List: 0.000013 seconds\n",
      "Array: 0.092035 seconds\n",
      "\n",
      "Size:  10000000\n",
      "\n",
      "True List: 0.000013 seconds\n",
      "Array: 1.188231 seconds\n"
     ]
    }
   ],
   "source": [
    "random.seed(1) \n",
    "for sz in [ 1, 10, 100, 1e3, 1e4, 1e5, 1e6, 1e7]:\n",
    "    sz = int(sz)\n",
    "    nums = [x for x in range(sz)]\n",
    "    random.shuffle(nums)\n",
    "    random.shuffle(nums)\n",
    "    new_values = 200\n",
    "    idx = 0 #int(sz/2)\n",
    "    values = [-1 * x for x in range(new_values)]\n",
    "\n",
    "    lst = collections.deque(nums)\n",
    "    arr = np.array(nums)\n",
    "\n",
    "    print ()\n",
    "    print (\"Size: \", sz)\n",
    "    print ()\n",
    "\n",
    "    start_time = time.time()\n",
    "    insert(lst, idx, values)\n",
    "    end_time = time.time()\n",
    "    print(\"True List: %f seconds\" % (end_time - start_time))\n",
    "\n",
    "    start_time = time.time()\n",
    "    insert_np(arr, idx, values)\n",
    "    end_time = time.time()\n",
    "    print(\"Array: %f seconds\" % (end_time - start_time))"
   ]
  },
  {
   "cell_type": "code",
   "execution_count": 13,
   "metadata": {},
   "outputs": [],
   "source": [
    "#FIXME:  add plot here!"
   ]
  },
  {
   "cell_type": "code",
   "execution_count": 14,
   "metadata": {},
   "outputs": [
    {
     "name": "stdout",
     "output_type": "stream",
     "text": [
      "\n",
      "Randomized Insert\n",
      "\n",
      "True List: 0.037464 seconds\n",
      "Array: 0.092288 seconds\n",
      "Python List: 0.044489 seconds\n"
     ]
    }
   ],
   "source": [
    "def rand_insert(thing, idxs, values):\n",
    "    for idx, value in zip(idxs,values):\n",
    "        thing.insert(idx, value)\n",
    "def rand_insert_np(thing, idxs, values):\n",
    "    for idx, value in zip(idxs,values):\n",
    "        thing = np.insert(thing,idx, value)\n",
    "    \n",
    "random.seed(1)        \n",
    "sz = 1000000\n",
    "nums = [x for x in range(sz)]\n",
    "random.shuffle(nums)\n",
    "random.shuffle(nums)\n",
    "new_values = 200\n",
    "idxs = list(random.sample( range(sz), new_values))\n",
    "values = [-1 * x for x in idxs]\n",
    "\n",
    "lst = collections.deque(nums)\n",
    "arr = np.array(nums)\n",
    "\n",
    "print ()\n",
    "print ('Randomized Insert')\n",
    "print ()\n",
    "\n",
    "start_time = time.time()\n",
    "rand_insert(lst, idxs, values)\n",
    "end_time = time.time()\n",
    "print(\"True List: %f seconds\" % (end_time - start_time))\n",
    "\n",
    "start_time = time.time()\n",
    "rand_insert_np(arr, idxs, values)\n",
    "end_time = time.time()\n",
    "print(\"Array: %f seconds\" % (end_time - start_time))\n",
    "\n",
    "start_time = time.time()\n",
    "rand_insert(nums, idxs, values)\n",
    "end_time = time.time()\n",
    "print(\"Python List: %f seconds\" % (end_time - start_time))"
   ]
  },
  {
   "cell_type": "code",
   "execution_count": 15,
   "metadata": {},
   "outputs": [
    {
     "name": "stdout",
     "output_type": "stream",
     "text": [
      "sk\n",
      "eiPPzDAnWiskaumnqYpl\n",
      "[10]\n"
     ]
    }
   ],
   "source": [
    "def find_ignore_case( needle, haystack):\n",
    "    results = []\n",
    "    for hi in range(len(haystack)):\n",
    "        match = True\n",
    "        for ni in range(len(needle)-1):\n",
    "            h = haystack[hi + ni].lower()\n",
    "            n = needle[ni].lower()\n",
    "            if h != n: \n",
    "                match=False\n",
    "                break\n",
    "        if match:\n",
    "            results.append(hi)\n",
    "    return results\n",
    "        \n",
    "def random_str(len):\n",
    "    random_string = ''\n",
    "    for _ in range(len):\n",
    "        # Considering only upper and lowercase letters\n",
    "        random_integer = random.randint(97, 97 + 26 - 1)\n",
    "        flip_bit = random.randint(0, 1)\n",
    "        # Convert to lowercase if the flip bit is on\n",
    "        random_integer = random_integer - 32 if flip_bit == 1 else random_integer\n",
    "        # Keep appending random characters using chr(x)\n",
    "        random_string += (chr(random_integer))\n",
    "    return random_string\n",
    "\n",
    "random.seed(1)  \n",
    "sz=20\n",
    "haystack = random_str(sz)\n",
    "needle = haystack[int(sz/2):int(sz/2)+2]\n",
    "results = find_ignore_case(needle, haystack)\n",
    "\n",
    "print (needle)\n",
    "print (haystack)\n",
    "print (results)\n"
   ]
  },
  {
   "cell_type": "code",
   "execution_count": 16,
   "metadata": {},
   "outputs": [
    {
     "name": "stdout",
     "output_type": "stream",
     "text": [
      "True List: 0.228491 seconds\n"
     ]
    }
   ],
   "source": [
    "def find_ignore_case( needle, haystack):\n",
    "    results = []\n",
    "    for hi in range(len(haystack)-len(needle)):\n",
    "        match = True\n",
    "        for ni in range(len(needle)-1):\n",
    "            h = haystack[hi + ni].lower()\n",
    "            n = needle[ni].lower()\n",
    "            if h != n: \n",
    "                match=False                \n",
    "        if match:\n",
    "            results.append(hi)\n",
    "    return results\n",
    "\n",
    "random.seed(1)  \n",
    "sz=1000000\n",
    "haystack = random_str(sz)\n",
    "needle = haystack[int(sz/2):int(sz/2)+2]\n",
    "\n",
    "start_time = time.time()\n",
    "results = find_ignore_case(needle, haystack)\n",
    "end_time = time.time()\n",
    "print(\"True List: %f seconds\" % (end_time - start_time))"
   ]
  },
  {
   "cell_type": "code",
   "execution_count": 17,
   "metadata": {},
   "outputs": [
    {
     "name": "stdout",
     "output_type": "stream",
     "text": [
      "         3038385 function calls in 0.410 seconds\n",
      "\n",
      "   Ordered by: standard name\n",
      "\n",
      "   ncalls  tottime  percall  cumtime  percall filename:lineno(function)\n",
      "        1    0.334    0.334    0.409    0.409 4018731029.py:1(find_ignore_case)\n",
      "        1    0.000    0.000    0.410    0.410 <string>:1(<module>)\n",
      "        1    0.000    0.000    0.410    0.410 {built-in method builtins.exec}\n",
      "  1000000    0.023    0.000    0.023    0.000 {built-in method builtins.len}\n",
      "    38385    0.001    0.000    0.001    0.000 {method 'append' of 'list' objects}\n",
      "        1    0.000    0.000    0.000    0.000 {method 'disable' of '_lsprof.Profiler' objects}\n",
      "  1999996    0.051    0.000    0.051    0.000 {method 'lower' of 'str' objects}\n",
      "\n",
      "\n"
     ]
    }
   ],
   "source": [
    "import cProfile\n",
    "cProfile.run('find_ignore_case(needle, haystack)')"
   ]
  },
  {
   "cell_type": "code",
   "execution_count": 18,
   "metadata": {
    "scrolled": true
   },
   "outputs": [
    {
     "data": {
      "image/png": "[encoded data removed]",
      "text/plain": [
       "<IPython.core.display.Image object>"
      ]
     },
     "execution_count": 18,
     "metadata": {},
     "output_type": "execute_result"
    }
   ],
   "source": [
    "import cProfile\n",
    "from IPython.display import Image\n",
    "import subprocess\n",
    "cProfile.run('find_ignore_case(needle, haystack)', 'find.pstats')\n",
    "subprocess.call(['python3', 'gprof2dot.py', '-f', 'pstats', './find.pstats', '-o', 'find.dot'])\n",
    "subprocess.call(['dot', '-Tpng', '-o', 'find.png', 'find.dot' ])\n",
    "Image('find.png')"
   ]
  },
  {
   "cell_type": "code",
   "execution_count": 19,
   "metadata": {},
   "outputs": [
    {
     "name": "stdout",
     "output_type": "stream",
     "text": [
      "Find: 0.239545 seconds\n",
      "Find2: 0.000698 seconds\n"
     ]
    }
   ],
   "source": [
    "def find_ignore_case2( needle, haystack):\n",
    "    results = []\n",
    "    needle = needle.lower() # new\n",
    "    haystack = haystack.lower() # new    \n",
    "    for hi in range(len(haystack)-len(needle)):\n",
    "        match = True        \n",
    "        if haystack[hi] == needle[0]:            \n",
    "            for ni in range(len(needle)-1): \n",
    "                h = haystack[hi + ni]#.lower()\n",
    "                n = needle[ni]#.lower()\n",
    "                if h != n: \n",
    "                    match=False\n",
    "\n",
    "            if match:\n",
    "                results.append(hi)\n",
    "                break # new\n",
    "    return results\n",
    "\n",
    "random.seed(1)  \n",
    "sz=1000000\n",
    "haystack = random_str(sz)\n",
    "needle = haystack[int(sz/2):int(sz/2)+2]\n",
    "\n",
    "start_time = time.time()\n",
    "results = find_ignore_case(needle, haystack)\n",
    "end_time = time.time()\n",
    "print(\"Find: %f seconds\" % (end_time - start_time))\n",
    "\n",
    "start_time = time.time()\n",
    "results = find_ignore_case2(needle, haystack)\n",
    "end_time = time.time()\n",
    "print(\"Find2: %f seconds\" % (end_time - start_time))\n"
   ]
  },
  {
   "cell_type": "code",
   "execution_count": 20,
   "metadata": {},
   "outputs": [
    {
     "data": {
      "image/png": "[encoded data removed]",
      "text/plain": [
       "<IPython.core.display.Image object>"
      ]
     },
     "execution_count": 20,
     "metadata": {},
     "output_type": "execute_result"
    }
   ],
   "source": [
    "import cProfile\n",
    "from IPython.display import Image\n",
    "import subprocess\n",
    "cProfile.run('find_ignore_case2(needle, haystack)', 'find.pstats')\n",
    "subprocess.call(['python3', 'gprof2dot.py', '-f', 'pstats', './find.pstats', '-o', 'find.dot'])\n",
    "subprocess.call(['dot', '-Tpng', '-o', 'find.png', 'find.dot' ])\n",
    "Image('find.png')"
   ]
  },
  {
   "cell_type": "code",
   "execution_count": 21,
   "metadata": {},
   "outputs": [],
   "source": [
    "def find_ignore_case3( needle, haystack):\n",
    "    results = []\n",
    "    needle = needle.lower() # new\n",
    "    haystack = haystack.lower() # new\n",
    "    r = range(len(needle)-1) # new\n",
    "    \n",
    "    for hi in range(len(haystack)-len(needle)):\n",
    "        match = True\n",
    "        \n",
    "        if haystack[hi] == needle[0]:            \n",
    "            for ni in r: # update\n",
    "                h = haystack[hi + ni]#.lower()\n",
    "                n = needle[ni]#.lower()\n",
    "                if h != n: \n",
    "                    match=False\n",
    "                    break # new\n",
    "            if match:\n",
    "                results.append(hi)\n",
    "    return results\n",
    "\n",
    "def find_ignore_case4( needle, haystack):\n",
    "    results = []\n",
    "    needle = needle.lower() # new\n",
    "    haystack = haystack.lower() # new\n",
    "    r = range(len(needle)-1) # new\n",
    "    \n",
    "    for hi in range(len(haystack)-len(needle)):\n",
    "        #match = False\n",
    "        \n",
    "        if haystack[hi] == needle[0]:            \n",
    "            for ni in r: # update\n",
    "                h = haystack[hi + ni]#.lower()\n",
    "                n = needle[ni]#.lower()\n",
    "                if h == n: # new\n",
    "                    #match=False\n",
    "                    results.append(hi) # new\n",
    "                    break # new\n",
    "            #if match:\n",
    "                #results.append(hi)\n",
    "    return results\n",
    "\n",
    "def find_ignore_case5( needle, haystack):\n",
    "    return [haystack.find(needle)]\n",
    "\n"
   ]
  },
  {
   "cell_type": "code",
   "execution_count": 22,
   "metadata": {},
   "outputs": [
    {
     "name": "stdout",
     "output_type": "stream",
     "text": [
      "sk\n",
      "eiPPzDAnWiskaumnqYpl\n",
      "[10]\n",
      "[10]\n",
      "[10]\n",
      "[10]\n",
      "[10]\n"
     ]
    }
   ],
   "source": [
    "random.seed(1)  \n",
    "sz=20\n",
    "haystack = random_str(sz)\n",
    "needle = haystack[int(sz/2):int(sz/2)+2]\n",
    "results = find_ignore_case(needle, haystack)\n",
    "results2 = find_ignore_case2(needle, haystack)\n",
    "results3 = find_ignore_case3(needle, haystack)\n",
    "results4 = find_ignore_case4(needle, haystack)\n",
    "results5 = find_ignore_case5(needle, haystack)\n",
    "\n",
    "\n",
    "print (needle)\n",
    "print (haystack)\n",
    "print (results)\n",
    "print (results2)\n",
    "print (results3)\n",
    "print (results4)\n",
    "print (results5)\n"
   ]
  },
  {
   "cell_type": "code",
   "execution_count": 23,
   "metadata": {},
   "outputs": [
    {
     "name": "stdout",
     "output_type": "stream",
     "text": [
      "Find: 0.238418 seconds\n",
      "Find2: 0.000607 seconds\n",
      "Find3: 0.053936 seconds\n",
      "Find4: 0.051547 seconds\n",
      "Find5: 0.000182 seconds\n"
     ]
    }
   ],
   "source": [
    "random.seed(1)  \n",
    "sz=1000000\n",
    "haystack = random_str(sz)\n",
    "needle = haystack[int(sz/2):int(sz/2)+2]\n",
    "\n",
    "start_time = time.time()\n",
    "results = find_ignore_case(needle, haystack)\n",
    "end_time = time.time()\n",
    "print(\"Find: %f seconds\" % (end_time - start_time))\n",
    "\n",
    "start_time = time.time()\n",
    "results = find_ignore_case2(needle, haystack)\n",
    "end_time = time.time()\n",
    "print(\"Find2: %f seconds\" % (end_time - start_time))\n",
    "\n",
    "\n",
    "start_time = time.time()\n",
    "results = find_ignore_case3(needle, haystack)\n",
    "end_time = time.time()\n",
    "print(\"Find3: %f seconds\" % (end_time - start_time))\n",
    "\n",
    "start_time = time.time()\n",
    "results = find_ignore_case4(needle, haystack)\n",
    "end_time = time.time()\n",
    "print(\"Find4: %f seconds\" % (end_time - start_time))\n",
    "\n",
    "start_time = time.time()\n",
    "results = find_ignore_case5(needle, haystack)\n",
    "end_time = time.time()\n",
    "print(\"Find5: %f seconds\" % (end_time - start_time))"
   ]
  },
  {
   "cell_type": "code",
   "execution_count": null,
   "metadata": {},
   "outputs": [],
   "source": []
  }
 ],
 "metadata": {
  "kernelspec": {
   "display_name": "Python 3 (ipykernel)",
   "language": "python",
   "name": "python3"
  },
  "language_info": {
   "codemirror_mode": {
    "name": "ipython",
    "version": 3
   },
   "file_extension": ".py",
   "mimetype": "text/x-python",
   "name": "python",
   "nbconvert_exporter": "python",
   "pygments_lexer": "ipython3",
   "version": "3.9.13"
  }
 },
 "nbformat": 4,
 "nbformat_minor": 4
}
